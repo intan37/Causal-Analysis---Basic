{
  "nbformat": 4,
  "nbformat_minor": 0,
  "metadata": {
    "colab": {
      "name": "Tugas Causal Analysis I & II - Basic 1 notebook.ipynb",
      "provenance": [],
      "collapsed_sections": [],
      "toc_visible": true
    },
    "kernelspec": {
      "name": "python3",
      "display_name": "Python 3"
    },
    "language_info": {
      "name": "python"
    }
  },
  "cells": [
    {
      "cell_type": "markdown",
      "source": [
        "## Nomor 1"
      ],
      "metadata": {
        "id": "4AkE7O89sBJF"
      }
    },
    {
      "cell_type": "markdown",
      "source": [
        "**1. Jelaskan mengapa proses matching perlu dilakukan ketika ingin mengukur dampak dari suatu treatment pada propensity score modeling?**"
      ],
      "metadata": {
        "id": "G2dCoJa5sYFP"
      }
    },
    {
      "cell_type": "markdown",
      "source": [
        "Karena untuk menghilangkan dampak dari confoundernya sehingga dalam proses modelingnya cuma mengukur dampak treatmentnya saja. Jadi dalam proses matching itu customer yang di treatment dan tidak di treatment yang memiliki confounder yang sama dikelompokkan menjadi satu lalu dihitung dampak dari treatmentnya."
      ],
      "metadata": {
        "id": "vIwuqxBw8QE6"
      }
    },
    {
      "cell_type": "markdown",
      "source": [
        "## Nomor 2"
      ],
      "metadata": {
        "id": "SXVfZ7XWsPYZ"
      }
    },
    {
      "cell_type": "markdown",
      "source": [
        "**2. Sebelum adanya Double ML, peneliti machine learning menggunakan metode Double Selection untuk menguji efek dari treatment. Namun pada akhirnya Double Machine Learning digunakan karena lebih baik dibandingkan dengan Double Selection. Jelaskan mengapa Double ML lebih baik digunakan ketimbang Double Selection? Masalah apa yang ada pada Double Selection yang dapat diselesaikan dengan Double ML?**"
      ],
      "metadata": {
        "id": "5DPWr_6ZsfSt"
      }
    },
    {
      "cell_type": "markdown",
      "source": [
        ""
      ],
      "metadata": {
        "id": "mWxxyNoOSvYI"
      }
    },
    {
      "cell_type": "markdown",
      "source": [
        "## Nomor 3"
      ],
      "metadata": {
        "id": "3kvAHxDYsPnl"
      }
    },
    {
      "cell_type": "markdown",
      "source": [
        "**3. Ada banyak metrik yang dapat digunakan untuk mengukur dampak dari suatu variabel: ATE, CATE, dan LATE. Jelaskan kapan masing-masing metrik digunakan!**"
      ],
      "metadata": {
        "id": "QlTlS5m-svQ_"
      }
    },
    {
      "cell_type": "markdown",
      "source": [
        "*   ATE digunakan untuk mengetahui rata-rata dampak treatment dari orang saat diberi treatment dan tidak\n",
        "*   CATE digunakan untuk mengetahui rata-rata dampak treatment tergantung kondisinya seperti berdasarkan gender, umur, dll\n",
        "*   LATE digunakan untuk mengetahui rata-rata dampak treatmentnya tetapi treatment tersebut ada kemungkinan orang tidak menjalaninya dengan benar. Contohnya untuk menjalani treatment dengan benar syaratnya harus datang ke kantor tepat waktu lalu ada beberapa orang yang datangnya tidak tepat waktu"
      ],
      "metadata": {
        "id": "etrbFi4sn1OM"
      }
    },
    {
      "cell_type": "markdown",
      "source": [
        "## Nomor 4"
      ],
      "metadata": {
        "id": "TpK63WB7sPwK"
      }
    },
    {
      "cell_type": "markdown",
      "source": [
        "**4. Berikut adalah pertanyaan open-ended, akan dinilai berdasarkan argumentasi yang memiliki landasan. Kita dapat mengekstrak knowledge dari model dengan menggunakan interpretable machine learning. Namun kita juga dapat menggunakan metode seperti double ML untuk mendapatkan pola sebab-akibat berdasarkan data generation process. Mana metode yang lebih baik untuk menjelaskan dampak dari akibat? Kapan metode interpretable machine learning dapat digunakan untuk analisis kausal?**"
      ],
      "metadata": {
        "id": "R0adX40os30Q"
      }
    },
    {
      "cell_type": "markdown",
      "source": [
        "Menurut saya tergantung kebutuhan dan tipe datanya\n",
        "*   Apabila ingin mengukur dampak treatment dari keseluruhan menggunakan DML. Apabila ingin mengukur dampak treatment dari tiap user menggunakan Meta Learner\n",
        "*   Apabila tipe treatmentnya berbentuk categorical bisa menggunakan DML dan Meta Learner. Apabila tipe treatmentnya numerik menggunakan DML\n",
        "*   Apabila outcomenya berbentuk binary menggunakan DML. Meta Learner bisa digunakan apabila outcomenya binary dan lain-lain\n",
        "\n",
        "\n",
        "\n"
      ],
      "metadata": {
        "id": "9BiZpDbVpHLK"
      }
    }
  ]
}